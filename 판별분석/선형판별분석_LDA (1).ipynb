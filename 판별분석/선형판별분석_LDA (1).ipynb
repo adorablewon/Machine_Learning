{
  "nbformat": 4,
  "nbformat_minor": 0,
  "metadata": {
    "colab": {
      "name": "선형판별분석 LDA.ipynb",
      "provenance": [],
      "collapsed_sections": []
    },
    "kernelspec": {
      "name": "python3",
      "display_name": "Python 3"
    }
  },
  "cells": [
    {
      "cell_type": "code",
      "metadata": {
        "id": "0VuBkWHMzmA-"
      },
      "source": [
        "import seaborn as sns\n",
        "iris = sns.load_dataset('iris')\n",
        "X = iris.drop('species', axis=1)\n",
        "y = iris['species']"
      ],
      "execution_count": 14,
      "outputs": []
    },
    {
      "cell_type": "code",
      "metadata": {
        "id": "WpA-w69Nz1zX"
      },
      "source": [
        "from sklearn.preprocessing import LabelEncoder\n",
        "classle = LabelEncoder()\n",
        "y = classle.fit_transform(iris['species'].values) #species 열의 문자형->범주형"
      ],
      "execution_count": 15,
      "outputs": []
    },
    {
      "cell_type": "code",
      "metadata": {
        "id": "2VbmIGby0C4h"
      },
      "source": [
        "from sklearn.model_selection import train_test_split\n",
        "X_train, X_test, y_train, y_test = train_test_split(X,y,test_size=0.3, random_state= 123, stratify = y)"
      ],
      "execution_count": 20,
      "outputs": []
    },
    {
      "cell_type": "code",
      "metadata": {
        "id": "3vo0BOsR0PUo"
      },
      "source": [
        "from sklearn.discriminant_analysis import LinearDiscriminantAnalysis\n",
        "cld = LinearDiscriminantAnalysis(store_covariance=True) \n",
        "#store 뭐시기 -> covariance(판별함수에서 우리가 추정하고자 하는 모수) 값을 찍어보고 싶으면 필요함, default=False"
      ],
      "execution_count": 21,
      "outputs": []
    },
    {
      "cell_type": "code",
      "metadata": {
        "id": "RTVxZ0iC1RaH"
      },
      "source": [
        "cld.fit(X_train, y_train)\n",
        "y_train_pred = cld.predict(X_train) \n",
        "y_test_pred = cld.predict(X_test) #학습할 때 쓴 적이 없는 데이터를 넣어서 LDA함수를 검증해보겠다\n"
      ],
      "execution_count": 22,
      "outputs": []
    },
    {
      "cell_type": "code",
      "metadata": {
        "id": "UTI1O75y1imA",
        "outputId": "39d5a6ca-48b8-4109-bdf2-bcdc50b24313",
        "colab": {
          "base_uri": "https://localhost:8080/",
          "height": 53
        }
      },
      "source": [
        "from sklearn.metrics import accuracy_score\n",
        "print(accuracy_score(y_train, y_train_pred))\n",
        "print(accuracy_score(y_test, y_test_pred))"
      ],
      "execution_count": 23,
      "outputs": [
        {
          "output_type": "stream",
          "text": [
            "0.9714285714285714\n",
            "0.9777777777777777\n"
          ],
          "name": "stdout"
        }
      ]
    },
    {
      "cell_type": "code",
      "metadata": {
        "id": "NCDf-6gu1xGX",
        "outputId": "69ad3648-60c7-49ab-cad0-88536c395519",
        "colab": {
          "base_uri": "https://localhost:8080/",
          "height": 71
        }
      },
      "source": [
        "from sklearn.metrics import confusion_matrix\n",
        "print(confusion_matrix(y_test, y_test_pred))"
      ],
      "execution_count": 24,
      "outputs": [
        {
          "output_type": "stream",
          "text": [
            "[[15  0  0]\n",
            " [ 0 14  1]\n",
            " [ 0  0 15]]\n"
          ],
          "name": "stdout"
        }
      ]
    },
    {
      "cell_type": "code",
      "metadata": {
        "id": "PguvVsL_2Hoa"
      },
      "source": [
        "#fit_transform => 내가 실제로 x라는 훈련 데이터를 넣었는데 분명히 우리는 LDA를 사용해서 사용하는 특정 사용 축을 기준으로\n",
        "#차원 축소해서 사용이 가능함. 사용된 데이터를 구하고 싶은 거 -> fit_transform 이렇게 나오는 X_LDA데이터를 plot"
      ],
      "execution_count": 25,
      "outputs": []
    },
    {
      "cell_type": "code",
      "metadata": {
        "id": "WIME-MZ34a8s",
        "outputId": "0b88049b-faa8-4e0a-ef0c-c8651121b125",
        "colab": {
          "base_uri": "https://localhost:8080/",
          "height": 301
        }
      },
      "source": [
        "X_lda = cld.fit_transform(X_train, y_train)\n",
        "\n",
        "from matplotlib import pyplot as plt\n",
        "plt.xlabel('LD1')\n",
        "plt.ylabel('LD2')\n",
        "plt.scatter(\n",
        "    X_lda[:,0],\n",
        "    X_lda[:,1],\n",
        "    c = y_train,\n",
        "    cmap = 'rainbow',\n",
        "    alpha = 0.7,\n",
        "    edgecolors='b'\n",
        ")"
      ],
      "execution_count": 27,
      "outputs": [
        {
          "output_type": "execute_result",
          "data": {
            "text/plain": [
              "<matplotlib.collections.PathCollection at 0x7ff93f6e9b38>"
            ]
          },
          "metadata": {
            "tags": []
          },
          "execution_count": 27
        },
        {
          "output_type": "display_data",
          "data": {
            "image/png": "[encoded data removed]",
            "text/plain": [
              "<Figure size 432x288 with 1 Axes>"
            ]
          },
          "metadata": {
            "tags": [],
            "needs_background": "light"
          }
        }
      ]
    },
    {
      "cell_type": "code",
      "metadata": {
        "id": "cDZ3zv8w40nF"
      },
      "source": [
        "# 아이리스 데이터는 N = 150, n_features(독립변수의 차원) = 5 \n",
        "# Y class = 1, 2, 3\n",
        "# LDA 함수를 호출할 때 n_components 호출할 수 있음 -> 150*5를 150*3으로 바꾸고 싶을 때\n",
        "# n_components=3 으로 바꿔진다. default 값은 메뉴얼에 써져있는데, n_class-1, n_features 중에 작은 걸ㄹ로 -> 지금은 2로 설정\n",
        "# LDA component 차원 높이는 게 성능 향상에 도움 될 거 같으면 component 늘리면 된다.\n"
      ],
      "execution_count": 28,
      "outputs": []
    },
    {
      "cell_type": "code",
      "metadata": {
        "id": "nx2YOGMC5uwC"
      },
      "source": [
        ""
      ],
      "execution_count": null,
      "outputs": []
    }
  ]
}